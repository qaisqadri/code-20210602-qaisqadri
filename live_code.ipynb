{
 "cells": [
  {
   "cell_type": "code",
   "execution_count": 2,
   "id": "16bfa6d1",
   "metadata": {},
   "outputs": [],
   "source": [
    "add2 = lambda x: x+2 if x> 10 else x"
   ]
  },
  {
   "cell_type": "code",
   "execution_count": 4,
   "id": "27810b59",
   "metadata": {},
   "outputs": [
    {
     "data": {
      "text/plain": [
       "14"
      ]
     },
     "execution_count": 4,
     "metadata": {},
     "output_type": "execute_result"
    }
   ],
   "source": [
    "add2(12)"
   ]
  },
  {
   "cell_type": "code",
   "execution_count": 5,
   "id": "fc32c34c",
   "metadata": {},
   "outputs": [
    {
     "data": {
      "text/plain": [
       "<map at 0x7fdc386e2240>"
      ]
     },
     "execution_count": 5,
     "metadata": {},
     "output_type": "execute_result"
    }
   ],
   "source": [
    "list1 = [1,2,3]\n",
    "sq = lambda x: x**2\n",
    "map(sq, list1)"
   ]
  },
  {
   "cell_type": "code",
   "execution_count": 6,
   "id": "19d97cb2",
   "metadata": {},
   "outputs": [
    {
     "data": {
      "text/plain": [
       "[1, 4, 9]"
      ]
     },
     "execution_count": 6,
     "metadata": {},
     "output_type": "execute_result"
    }
   ],
   "source": [
    "list(map(sq, list1))"
   ]
  },
  {
   "cell_type": "code",
   "execution_count": 7,
   "id": "17f0159f",
   "metadata": {},
   "outputs": [
    {
     "data": {
      "text/plain": [
       "<filter at 0x7fdc386e2470>"
      ]
     },
     "execution_count": 7,
     "metadata": {},
     "output_type": "execute_result"
    }
   ],
   "source": [
    "list2 = [1,2,3,4,5]\n",
    "\n",
    "filter(lambda x: True if x%2 else False, list2)"
   ]
  },
  {
   "cell_type": "code",
   "execution_count": 8,
   "id": "5aa96fe5",
   "metadata": {},
   "outputs": [
    {
     "data": {
      "text/plain": [
       "[1, 3, 5]"
      ]
     },
     "execution_count": 8,
     "metadata": {},
     "output_type": "execute_result"
    }
   ],
   "source": [
    "list(filter(lambda x: True if x%2 else False, list2))"
   ]
  },
  {
   "cell_type": "code",
   "execution_count": 10,
   "id": "f3dabbfa",
   "metadata": {},
   "outputs": [],
   "source": [
    "animal_list = ['wolf', 'cat', 'wolf pack', 'wolf', 'wolves', 'wolf'] "
   ]
  },
  {
   "cell_type": "code",
   "execution_count": null,
   "id": "eb72d26e",
   "metadata": {},
   "outputs": [],
   "source": [
    "['wolf', 'cat', 'wolf wolf pack', 'wolf', 'wolves', 'wolf wolf wolf’, ‘None’] "
   ]
  },
  {
   "cell_type": "code",
   "execution_count": null,
   "id": "52e865d0",
   "metadata": {},
   "outputs": [],
   "source": [
    "1. clean the list for empty and none\n",
    "2. filter out all where wolf is present\n",
    "3. count term in each string."
   ]
  },
  {
   "cell_type": "code",
   "execution_count": 12,
   "id": "296186fd",
   "metadata": {},
   "outputs": [
    {
     "data": {
      "text/plain": [
       "(['wolf', 'wolf pack', 'wolf', 'wolf'], 4)"
      ]
     },
     "execution_count": 12,
     "metadata": {},
     "output_type": "execute_result"
    }
   ],
   "source": [
    "def filter_animals():\n",
    "    input_str = 'wolf'\n",
    "    res = [item for item in animal_list if item.startswith(input_str)]\n",
    "    return res, len(res)\n",
    "\n",
    "filter_animals()\n",
    "    "
   ]
  },
  {
   "cell_type": "code",
   "execution_count": 14,
   "id": "b8774402",
   "metadata": {},
   "outputs": [
    {
     "data": {
      "text/plain": [
       "['wolf', 'wolf pack', 'wolf', 'wolf']"
      ]
     },
     "execution_count": 14,
     "metadata": {},
     "output_type": "execute_result"
    }
   ],
   "source": [
    "list(filter(lambda x: True if 'wolf' in x else False, animal_list))"
   ]
  },
  {
   "cell_type": "code",
   "execution_count": 27,
   "id": "0610664f",
   "metadata": {},
   "outputs": [],
   "source": [
    "# 1. clean the list for empty and none\n",
    "# 2. filter out all where wolf is present\n",
    "# 3. count term in each string.\n",
    "\n",
    "data_list = [ 'wolf', 'cat', 'wolf wolf pack', 'wolf', 'wolves', 'wolf wolf wolf', None, '']\n",
    "\n",
    "def get_count(term, string):\n",
    "    return string.split(\" \").count(term)\n",
    "\n",
    "\n",
    "def clean_list(data_list):\n",
    "    return [item.lower() for item in data_list if item]\n",
    "\n",
    "def filter_items(term, data_list):\n",
    "    term = term.lower()\n",
    "    return[item for item in data_list if term in item]\n",
    "\n",
    "def count_term_in_each(term, data_list):\n",
    "    res = {}\n",
    "    for item in data_list:\n",
    "        res[item] = get_count(term, item)\n",
    "    \n",
    "    return res\n"
   ]
  },
  {
   "cell_type": "code",
   "execution_count": 28,
   "id": "ad01b071",
   "metadata": {},
   "outputs": [
    {
     "data": {
      "text/plain": [
       "{'wolf': 1, 'wolf wolf pack': 2, 'wolf wolf wolf': 3}"
      ]
     },
     "execution_count": 28,
     "metadata": {},
     "output_type": "execute_result"
    }
   ],
   "source": [
    "term = 'wolf'\n",
    "clean_data = clean_list(data_list)\n",
    "filtered_list = filter_items(term, clean_data)\n",
    "counts = count_term_in_each(term, filtered_list)\n",
    "counts\n"
   ]
  },
  {
   "cell_type": "code",
   "execution_count": 29,
   "id": "8e4992fd",
   "metadata": {},
   "outputs": [
    {
     "data": {
      "text/plain": [
       "['wolf', 'wolf wolf pack', 'wolf', 'wolf wolf wolf']"
      ]
     },
     "execution_count": 29,
     "metadata": {},
     "output_type": "execute_result"
    }
   ],
   "source": [
    "filtered_list"
   ]
  },
  {
   "cell_type": "code",
   "execution_count": 30,
   "id": "aaf210d5",
   "metadata": {},
   "outputs": [
    {
     "data": {
      "text/plain": [
       "['wolf', 'cat', 'wolf wolf pack', 'wolf', 'wolves', 'wolf wolf wolf']"
      ]
     },
     "execution_count": 30,
     "metadata": {},
     "output_type": "execute_result"
    }
   ],
   "source": [
    "clean_data"
   ]
  },
  {
   "cell_type": "code",
   "execution_count": null,
   "id": "f49e7a2c",
   "metadata": {},
   "outputs": [],
   "source": [
    "\n",
    "@pytest.mark.parameterized(\n",
    "        ('wolf', \"wolf\",1),\n",
    "        ('cat', \"wolf cat cat\", 2),\n",
    "        ('wolf', '', 0)\n",
    ")\n",
    "def test_get_count(term, string, res):\n",
    "    val = get_count(term, string)\n",
    "    assert val = res\n",
    "    \n",
    "@pytest.mark.parameterized(\n",
    "    (['', 'cat', \"dog\"], ['cat',\"dog\"]),\n",
    "    ([''],[]),\n",
    "    ()\n",
    ")\n",
    "def test_clean_list(data_list, res):\n",
    "    \n",
    "    res_list = clean_list(data_list)\n",
    "    assert res_list == res\n",
    "    assert len(res_list) == len(res)\n",
    "    \n",
    "\n"
   ]
  }
 ],
 "metadata": {
  "kernelspec": {
   "display_name": "Python 3",
   "language": "python",
   "name": "python3"
  },
  "language_info": {
   "codemirror_mode": {
    "name": "ipython",
    "version": 3
   },
   "file_extension": ".py",
   "mimetype": "text/x-python",
   "name": "python",
   "nbconvert_exporter": "python",
   "pygments_lexer": "ipython3",
   "version": "3.6.9"
  }
 },
 "nbformat": 4,
 "nbformat_minor": 5
}
